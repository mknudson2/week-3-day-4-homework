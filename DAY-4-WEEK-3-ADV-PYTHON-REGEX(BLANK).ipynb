{
 "cells": [
  {
   "cell_type": "markdown",
   "metadata": {},
   "source": [
    "# Regular Expressions"
   ]
  },
  {
   "cell_type": "markdown",
   "metadata": {},
   "source": [
    "# Tasks today:\n",
    "1) <b>Importing</b> <br>\n",
    "2) <b>Using Regular Expressions</b> <br>\n",
    " &nbsp;&nbsp;&nbsp;&nbsp; a) re.compile() <br>\n",
    " &nbsp;&nbsp;&nbsp;&nbsp; b) re.match() <br>\n",
    " &nbsp;&nbsp;&nbsp;&nbsp; c) re.findall() <br>\n",
    " &nbsp;&nbsp;&nbsp;&nbsp; d) re.search() <br>\n",
    "3) <b>Sets</b> <br>\n",
    " &nbsp;&nbsp;&nbsp;&nbsp; a) Integer Ranges <br>\n",
    " &nbsp;&nbsp;&nbsp;&nbsp; b) Character Ranges <br>\n",
    "4) <b>Counting Occurences</b> <br>\n",
    " &nbsp;&nbsp;&nbsp;&nbsp; a) {x} <br>\n",
    " &nbsp;&nbsp;&nbsp;&nbsp; b) {, x} <br>\n",
    " &nbsp;&nbsp;&nbsp;&nbsp; c) {?} <br>\n",
    " &nbsp;&nbsp;&nbsp;&nbsp; d) {*} <br>\n",
    " &nbsp;&nbsp;&nbsp;&nbsp; e) {+} <br>\n",
    "5) <b>In-Class Exercise #1</b> <br>\n",
    "6) <b>Escaping Characters</b> <br>\n",
    "7) <b>Grouping</b> <br>\n",
    "8) <b>In-Class Exercise #2</b> <br>\n",
    "9) <b>Opening a File</b> <br>\n",
    " &nbsp;&nbsp;&nbsp;&nbsp; a) open() <br>\n",
    " &nbsp;&nbsp;&nbsp;&nbsp; b) with open() <br>\n",
    " &nbsp;&nbsp;&nbsp;&nbsp; c) re.match() <br>\n",
    " &nbsp;&nbsp;&nbsp;&nbsp; d) re.search() <br>\n",
    " &nbsp;&nbsp;&nbsp;&nbsp; e) Store the String in a Variable <br>\n",
    "10) <b>Regex Project</b> <br>"
   ]
  },
  {
   "cell_type": "markdown",
   "metadata": {},
   "source": [
    "### Importing <br>\n",
    "<p>Regular Expressions are universal throughout most programming languages... They are generally imported through the module 're'.</p>"
   ]
  },
  {
   "cell_type": "code",
   "execution_count": 1,
   "metadata": {},
   "outputs": [],
   "source": [
    "# import re\n",
    "import re"
   ]
  },
  {
   "cell_type": "markdown",
   "metadata": {},
   "source": [
    "### Using Regular Expressions <br>\n",
    "<p>Regular expressions give us the ability to search for patterns within text, strings, files, etc. They serve several uses, such as; security measures, searching, filtering, pattern recognition, and more...</p>"
   ]
  },
  {
   "cell_type": "markdown",
   "metadata": {},
   "source": [
    "##### re.compile()"
   ]
  },
  {
   "cell_type": "code",
   "execution_count": 2,
   "metadata": {},
   "outputs": [],
   "source": [
    "# using compile, pre determines the string to be used in regular expression methods\n",
    "\n",
    "simple_pattern = re.compile('abcd')"
   ]
  },
  {
   "cell_type": "markdown",
   "metadata": {},
   "source": [
    "##### re.match()"
   ]
  },
  {
   "cell_type": "code",
   "execution_count": 5,
   "metadata": {},
   "outputs": [
    {
     "data": {
      "text/plain": [
       "'abcd'"
      ]
     },
     "execution_count": 5,
     "metadata": {},
     "output_type": "execute_result"
    }
   ],
   "source": [
    "# must match beginning of text --> returns a match object\n",
    "random_string = 'abcd efghijklmnopqurstuv' #string we will be looking through for our pattern\n",
    "first_match = simple_pattern.match(random_string) #locating our match in the given input\n",
    "\n",
    "print(first_match)\n",
    "\n",
    "# Accessing the span of the match\n",
    "match_span = first_match.span() #shows where our match spans from beginning inclusive to end non-inclusive\n",
    "\n",
    "random_string[match_span[0]: match_span[1]] #getting a slice of our match"
   ]
  },
  {
   "cell_type": "code",
   "execution_count": 6,
   "metadata": {},
   "outputs": [
    {
     "name": "stdout",
     "output_type": "stream",
     "text": [
      "None\n"
     ]
    }
   ],
   "source": [
    "#match must start at beginning\n",
    "no_match = simple_pattern.match('zabdc')\n",
    "print(no_match)"
   ]
  },
  {
   "cell_type": "markdown",
   "metadata": {},
   "source": [
    "##### re.findall()"
   ]
  },
  {
   "cell_type": "code",
   "execution_count": 10,
   "metadata": {},
   "outputs": [
    {
     "data": {
      "text/plain": [
       "['123', '123', '123', '123', '123']"
      ]
     },
     "execution_count": 10,
     "metadata": {},
     "output_type": "execute_result"
    }
   ],
   "source": [
    "#Return a list of every match found\n",
    "\n",
    "re.compile('123').findall('1233345 123 99855158123 4678123459786 132123')"
   ]
  },
  {
   "cell_type": "markdown",
   "metadata": {},
   "source": [
    "##### re.search()"
   ]
  },
  {
   "cell_type": "code",
   "execution_count": 102,
   "metadata": {},
   "outputs": [
    {
     "data": {
      "text/plain": [
       "\"<re.Match object; span=(20, 24), match='abcd'>\""
      ]
     },
     "execution_count": 102,
     "metadata": {},
     "output_type": "execute_result"
    }
   ],
   "source": [
    "# Look for match anywhere in text or string --> returns match object of the FIRST match found\n",
    "\n",
    "simple_pattern.search('zabcd')\n",
    "\n",
    "(simple_pattern.search('asdf asdasdfasdfba zabcdfdaaadsfas')"
   ]
  },
  {
   "cell_type": "markdown",
   "metadata": {},
   "source": [
    "### Sets <br>\n",
    "<p>The following cells will allow you to use regular expressions to search for certain values within a range such as numbers 1 through 4.</p>"
   ]
  },
  {
   "cell_type": "markdown",
   "metadata": {},
   "source": [
    "##### [a-z] or [A-Z] - any lowercase/uppercase letters from a to z<br/>[^2] - anything that's not 2"
   ]
  },
  {
   "cell_type": "markdown",
   "metadata": {},
   "source": [
    "##### Integer Ranges"
   ]
  },
  {
   "cell_type": "code",
   "execution_count": 13,
   "metadata": {},
   "outputs": [
    {
     "data": {
      "text/plain": [
       "['773', '701']"
      ]
     },
     "execution_count": 13,
     "metadata": {},
     "output_type": "execute_result"
    }
   ],
   "source": [
    "int_pattern = re.compile('[0-9]')\n",
    "\n",
    "int_pattern.findall('1010 abcd abcd')\n",
    "\n",
    "int_pattern2 = re.compile('[7-9][0-7][1-4]') \n",
    "\n",
    "int_pattern2.findall('999 17773 77701')\n",
    "#all three criteria must be met\n",
    "#it looks at each item in the input and it needs to meet a three digit string that fills the conditions\n",
    "#for each position in the re.compile( pos1 = # between 7-9, pos2 = # between 0-7, pos3 = # between 1-4)\n",
    "\n",
    "#only two matches in the input have options to meet the criteria:\n",
    "#keep in mind that spaces are counted in looking for matches. Since spaces are not part of our ranges, we know \n",
    "#any inclusion of them will return false (not) and, to save space, combinations including those are not considered\n",
    "#below.\n",
    "#999\n",
    "    #pos1 - met! [9]\n",
    "    #pos2 - not [char is 9, we need one between 0-7], so break this\n",
    "    \n",
    "#17773\n",
    "    #177 - not (pos1 falls outside 7-9)\n",
    "    #777 - not (pos3 falls outside 1-4)\n",
    "    #773 - met!\n",
    "    \n",
    "#77701\n",
    "    #777 - not (pos3 falls outside 1-4)\n",
    "    #701 - met!"
   ]
  },
  {
   "cell_type": "markdown",
   "metadata": {},
   "source": [
    "##### Character Ranges"
   ]
  },
  {
   "cell_type": "code",
   "execution_count": 17,
   "metadata": {},
   "outputs": [
    {
     "name": "stdout",
     "output_type": "stream",
     "text": [
      "['Mr', 'Ms']\n",
      "['Hel', 'And']\n",
      "['Hel', 'NaN', 'And']\n"
     ]
    }
   ],
   "source": [
    "char_pattern = re.compile('[A-Z][a-z][a-z]')\n",
    "\n",
    "print(re.compile('M[r-s]').findall('Hello Mr. Anderson how is Ms Anderson?'))\n",
    "\n",
    "print(char_pattern.findall('Hello Mr. N Anderson'))\n",
    "\n",
    "#again, just like with the int_pattern, once a match has been found, those items cannot be reused to create\n",
    "#match\n",
    "\n",
    "char_pattern2 = re.compile('[A-Z][a-z][a-zA-Z]') #by altering the last one like that this looks for any letter\n",
    "#irresective of casing (case-insensitive)\n",
    "print(char_pattern2.findall('Hello Mr. NaN Anderson'))"
   ]
  },
  {
   "cell_type": "markdown",
   "metadata": {},
   "source": [
    "### Counting Occurences"
   ]
  },
  {
   "cell_type": "markdown",
   "metadata": {},
   "source": [
    "##### {x} - something that occurs {num_of_times}"
   ]
  },
  {
   "cell_type": "code",
   "execution_count": 18,
   "metadata": {},
   "outputs": [
    {
     "data": {
      "text/plain": [
       "['mm', 'mm', 'mm']"
      ]
     },
     "execution_count": 18,
     "metadata": {},
     "output_type": "execute_result"
    }
   ],
   "source": [
    "example_string = 'This is an example of regex looking for 1 m, more than one mmm or five mmmmms'\n",
    "\n",
    "two_m_pattern = re.compile('m{2}')\n",
    "\n",
    "two_m_pattern.findall(example_string)\n",
    "\n",
    "#solution 3 matches/occurences\n",
    "# 1. one MMm or ...\n",
    "# 2. or five MMmmms'\n",
    "# 3. or five mmMMms\n"
   ]
  },
  {
   "cell_type": "markdown",
   "metadata": {},
   "source": [
    "##### {x, x} - something that occurs between x and x times"
   ]
  },
  {
   "cell_type": "code",
   "execution_count": 21,
   "metadata": {},
   "outputs": [
    {
     "name": "stdout",
     "output_type": "stream",
     "text": [
      "['mmm', 'mmmmm']\n",
      "['1st', '2nd', '3rd', '20th', '30th', '25th', '00th', '00th']\n"
     ]
    }
   ],
   "source": [
    "ms_pattern = re.compile('m{2,5}')\n",
    "\n",
    "print(ms_pattern.findall(example_string)) #continues to look for up to max specified occurence\n",
    "\n",
    "#solution\n",
    "#1. more than one MMM\n",
    "#2. or five MMMMMs\n",
    "\n",
    "#any number between 0-9 occuring 1-2 times followed by any letter occuring 2 times exact\n",
    "#BE CAREFUL! IF YOU PUT WHITESPACE IN THE COMPILE(...) THEN IT WILL LOOK FOR WHITE SPACE TOO!\n",
    "print(re.compile('[0-9]{1,2}[a-z]{2}').findall('1st 2nd 3rd 20th 30th 25th 300th 100th'))\n"
   ]
  },
  {
   "cell_type": "markdown",
   "metadata": {},
   "source": [
    "##### ? - something that occurs 0 or 1 time"
   ]
  },
  {
   "cell_type": "code",
   "execution_count": 24,
   "metadata": {},
   "outputs": [
    {
     "data": {
      "text/plain": [
       "['Mr', 'Mrs']"
      ]
     },
     "execution_count": 24,
     "metadata": {},
     "output_type": "execute_result"
    }
   ],
   "source": [
    "#? with 0 means that it is optionial. If that character is not included then it's ok, no worries\n",
    "#? makes previous character (or range) optional\n",
    "\n",
    "# must be characters: M r, optional s --> looking for a Mr or Mrs\n",
    "mrs_pattern=re.compile('Mrs?')\n",
    "\n",
    "matrix_string = \"Hello There Mr. Anderson, how is Mrs. Anderson and Ms. Anderson\"\n",
    "\n",
    "mrs_pattern.findall(matrix_string)"
   ]
  },
  {
   "cell_type": "markdown",
   "metadata": {},
   "source": [
    "##### * - something that occurs at least 0 times"
   ]
  },
  {
   "cell_type": "code",
   "execution_count": 28,
   "metadata": {},
   "outputs": [
    {
     "data": {
      "text/plain": [
       "['MMMs', 'Ms', 'Ms']"
      ]
     },
     "execution_count": 28,
     "metadata": {},
     "output_type": "execute_result"
    }
   ],
   "source": [
    "#* is optional, like above, but also can grab many (grab as many as there are). But if there are none there, \n",
    "#no worries\n",
    "\n",
    "matrix_glitch_string = \"MMMs name is Ms. Smith. This is MMMMM is Mssssss\"\n",
    "\n",
    "ms_pattern3 = re.compile(\"M+s\")\n",
    "\n",
    "ms_pattern3.findall(matrix_glitch_string)"
   ]
  },
  {
   "cell_type": "markdown",
   "metadata": {},
   "source": [
    "##### + - something that occurs at least once"
   ]
  },
  {
   "cell_type": "code",
   "execution_count": null,
   "metadata": {},
   "outputs": [],
   "source": [
    "#works the same as the *, BUT it must occur at least once (i.e., not optional)\n",
    "ms_pattern2 = re.compile(\"M*s\")\n",
    "\n",
    "ms_pattern2.findall(matrix_glitch_string)"
   ]
  },
  {
   "cell_type": "markdown",
   "metadata": {},
   "source": [
    "##### In-class exercise 1: \n",
    "\n",
    "Use a regular expression to find every number in the given string"
   ]
  },
  {
   "cell_type": "code",
   "execution_count": 32,
   "metadata": {},
   "outputs": [
    {
     "data": {
      "text/plain": [
       "['11123', '5559', '12', '123']"
      ]
     },
     "execution_count": 32,
     "metadata": {},
     "output_type": "execute_result"
    }
   ],
   "source": [
    "#expected output = ['11123', '5559' '12', '123']\n",
    "ex_string = '11123 abcd 5559 12ab123'\n",
    "\n",
    "nums =re.compile('[0-9]+')\n",
    "\n",
    "nums.findall(ex_string)"
   ]
  },
  {
   "cell_type": "markdown",
   "metadata": {},
   "source": [
    "### Escaping Characters"
   ]
  },
  {
   "cell_type": "markdown",
   "metadata": {},
   "source": [
    "##### \\w - look for any Unicode character<br/>\\W - look for anything that isnt a Unicode character\n",
    "\n",
    "[History on Unicode](http://unicode.org/standard/WhatIsUnicode.html)\n",
    "\n",
    "[More on Unicode Characters](https://en.wikipedia.org/wiki/List_of_Unicode_characters)"
   ]
  },
  {
   "cell_type": "code",
   "execution_count": 36,
   "metadata": {},
   "outputs": [
    {
     "name": "stdout",
     "output_type": "stream",
     "text": [
      "['This', 'is', 'a', 'sentence', 'With', 'an', 'exclamation', 'mark', '122']\n",
      "[' ', ' ', ' ', '.    ', ' ', ', ', ' ', '! ']\n"
     ]
    }
   ],
   "source": [
    "unicode_pattern = re.compile('\\w+')\n",
    "string_with_punctuation = 'This is a sentence.    With an, exclamation mark! 122'\n",
    "\n",
    "print(unicode_pattern.findall('This is a sentence.    With an, exclamation mark! 122'))\n",
    "\n",
    "non_unicode_pattern = re.compile('\\W+')\n",
    "print(non_unicode_pattern.findall('This is a sentence.    With an, exclamation mark! 122'))"
   ]
  },
  {
   "cell_type": "markdown",
   "metadata": {},
   "source": [
    "##### \\d - look for any digit 0-9<br/>\\D - look for anything that isnt a digit"
   ]
  },
  {
   "cell_type": "code",
   "execution_count": 42,
   "metadata": {},
   "outputs": [
    {
     "data": {
      "text/plain": [
       "['Today is the ',\n",
       " 'th, in ',\n",
       " ' days it will be the ',\n",
       " 'th. ',\n",
       " 'rd,',\n",
       " 'st,',\n",
       " 'th']"
      ]
     },
     "execution_count": 42,
     "metadata": {},
     "output_type": "execute_result"
    }
   ],
   "source": [
    "string_with_dates = 'Today is the 6th, in 200 days it will be the 27th. 3rd,1st,30th'\n",
    "\n",
    "re.compile('\\d+').findall(string_with_dates)\n",
    "\n",
    "days_pattern = re.compile('\\d{1,2}[h-t]{2}')#any digit in range of 1-2 times followed exactly two letters from h-t\n",
    "\n",
    "days_pattern.findall(string_with_dates)\n",
    "\n",
    "re.compile('\\D+').findall(string_with_dates)"
   ]
  },
  {
   "cell_type": "markdown",
   "metadata": {},
   "source": [
    "##### \\s - look for any white space<br/>\\S - look for anything that isnt whitespace"
   ]
  },
  {
   "cell_type": "code",
   "execution_count": 45,
   "metadata": {},
   "outputs": [
    {
     "name": "stdout",
     "output_type": "stream",
     "text": [
      "[' ', ' ', '           ', ' ', ' ']\n",
      "['Are', 'you', 'afraid', 'of', 'the', 'dark?']\n"
     ]
    }
   ],
   "source": [
    "spooky = 'Are you afraid           of the dark?'\n",
    "\n",
    "white_space_pattern = re.compile('\\s+')\n",
    "\n",
    "print(white_space_pattern.findall(spooky))\n",
    "\n",
    "non_white_space_pattern = re.compile('\\S+')\n",
    "print(non_white_space_pattern.findall(spooky))"
   ]
  },
  {
   "cell_type": "markdown",
   "metadata": {},
   "source": [
    "##### \\b - look for boundaries or edges of a word<br/>\\B - look for anything that isnt a boundary"
   ]
  },
  {
   "cell_type": "code",
   "execution_count": 55,
   "metadata": {},
   "outputs": [
    {
     "name": "stdout",
     "output_type": "stream",
     "text": [
      "['Coding Temple']\n",
      "[]\n",
      "['Coding Temple']\n",
      "[]\n"
     ]
    }
   ],
   "source": [
    "boundary_pattern = re.compile(r'\\bCoding Temple\\b') #when looking for boundaries, you must use a raw string (r'')\n",
    "\n",
    "print(boundary_pattern.findall('Welcome to Coding Temple!'))\n",
    "\n",
    "print(boundary_pattern.findall('Welcome to FakeCoding Temple!'))\n",
    "\n",
    "no_boundary_pattern = re.compile(r'\\BCoding Temple\\B')\n",
    "\n",
    "print(no_boundary_pattern.findall('Welcome TO FakeCoding Temple2'))\n",
    "print(no_boundary_pattern.findall('Welcome TO FakeCoding Temple.'))"
   ]
  },
  {
   "cell_type": "markdown",
   "metadata": {},
   "source": [
    "### Grouping"
   ]
  },
  {
   "cell_type": "code",
   "execution_count": 62,
   "metadata": {},
   "outputs": [
    {
     "name": "stdout",
     "output_type": "stream",
     "text": [
      "['Max Smith', 'aaron rodgers', 'Sam Darnold', 'LeBron James', 'Michael Jordan', 'Patrick McCormick']\n",
      "Max Smith is valid\n",
      "Not valid probably a qb im happy to see leave the division\n",
      "Sam Darnold is valid\n",
      "LeBron James is valid\n",
      "Michael Jordan is valid\n",
      "Patrick McCormick is valid\n"
     ]
    }
   ],
   "source": [
    "group_pattern = re.compile('([A-Z][a-zA-Z]+) ([A-Z][a-zA-Z]+)')\n",
    "\n",
    "sports_names = 'Max Smith, aaron rodgers, Sam Darnold, LeBron James, Michael Jordan, Patrick McCormick'\n",
    "\n",
    "# group_pattern.findall(sports_names)\n",
    "\n",
    "print(sports_names.split(', '))\n",
    "\n",
    "#or...\n",
    "\n",
    "names_list = re.compile('\\w+ \\w+').findall(sports_names)\n",
    "\n",
    "for name in names_list:\n",
    "    if group_pattern.match(name):\n",
    "        print(f'{name} is valid')\n",
    "    else:\n",
    "        print(f'Not valid probably a qb im happy to see leave the division')\n"
   ]
  },
  {
   "cell_type": "markdown",
   "metadata": {},
   "source": [
    "##### In-class Exercise 2:\n",
    "\n",
    "Write a function using regular expressions to find the domain name in the given email addresses (and return None for the invalid email addresses)<br><b>HINT: Use '|' for either or</b>"
   ]
  },
  {
   "cell_type": "code",
   "execution_count": 79,
   "metadata": {},
   "outputs": [
    {
     "name": "stdout",
     "output_type": "stream",
     "text": [
      "None\n",
      "pocohontas1776@gmail.com\n",
      "None\n",
      "yourfavoriteband@g6.org\n",
      "None\n"
     ]
    }
   ],
   "source": [
    "my_emails = [\"jordanw@codingtemple.orgcom\", \"pocohontas1776@gmail.com\", \"helloworld@aol..com\",\n",
    "             \"yourfavoriteband@g6.org\", \"@codingtemple.com\"]\n",
    "\n",
    "# You can also use the $ at the end of your compile expression -- this stops the search\n",
    "\n",
    "#.com OR .org => com|org\n",
    "\n",
    "#Expected output:\n",
    "#None\n",
    "#pocohontas1776@gmail.com\n",
    "#None\n",
    "#yourfavoriteband@g6.org\n",
    "#None\n",
    "\n",
    "\n",
    "valid_email =re.compile('[a-z][a-z0-9]+@[a-z0-9]+(.com|.org)$')\n",
    "\n",
    "for email in my_emails:\n",
    "    validated = valid_email.findall(email)\n",
    "    if validated:\n",
    "        print(email)\n",
    "    else:\n",
    "        print('None')\n",
    "    "
   ]
  },
  {
   "cell_type": "code",
   "execution_count": 120,
   "metadata": {},
   "outputs": [
    {
     "name": "stdout",
     "output_type": "stream",
     "text": [
      "Invalid record\n",
      "Age: 30, Country: Canada\n",
      "Invalid record\n",
      "Invalid record\n",
      "Invalid record\n",
      "Age: 35, Country: Australia\n",
      "Invalid record\n",
      "Invalid record\n",
      "Invalid record\n",
      "Invalid record\n",
      "Invalid record\n",
      "Invalid record\n",
      "Invalid record\n",
      "Invalid record\n",
      "Invalid record\n",
      "Invalid record\n",
      "Invalid record\n",
      "Invalid record\n",
      "Invalid record\n",
      "Invalid record\n",
      "Invalid record\n",
      "\n",
      "Valid records: 2\n",
      "Invalid records: 19\n"
     ]
    }
   ],
   "source": [
    "\n",
    "import re\n",
    "\n",
    "def extract_user_info(data, pattern):\n",
    "    valid_count = 0\n",
    "    invalid_count = 0\n",
    "\n",
    "    for line in data:\n",
    "        match = re.match(pattern, line)\n",
    "        if match:\n",
    "            age = match.group(2)\n",
    "            country = match.group(3)\n",
    "            print(f\"Age: {age}, Country: {country}\")\n",
    "            valid_count += 1\n",
    "        else:\n",
    "            print(\"Invalid record\")\n",
    "            invalid_count += 1\n",
    "\n",
    "    print(f\"\\nValid records: {valid_count}\")\n",
    "    print(f\"Invalid records: {invalid_count}\")\n",
    "\n",
    "\n",
    "data = ['John Doe, 25, United States\\n', 'Jane Smith, 30, Canada\\n', 'Invalid data\\n', 'John Adams; 45; United Kingdom\\n',\n",
    "        ', 20, \\n', 'Megan Brown, 35, Australia\\n', 'Data not available\\n', 'Mike Wilson, , United States\\n',\n",
    "        'Sarah Johnson, 40, \\n', 'Paul Clark 50 Germany\\n', 'Emily Davis:32:France\\n', '45, United States\\n',\n",
    "        'Invalid Record\\n', 'Alex White, 25, \\n', ', , Germany\\n', 'Julia Robinson, 37, South Africa\\n',\n",
    "        'Fred Thompson; ; United Kingdom\\n', '24, India\\n', 'John Adams : 45 : United Kingdom\\n', 'Sarah Johnson,40\\n',\n",
    "        'Sarah Johnson 40 \\n']\n",
    "\n",
    "pattern = re.compile(r'([A-Z][a-z]+ [A-Z][a-z]+), ([0-9]{2}), ([A-Z][a-z]+)$')\n",
    "extract_user_info(data, pattern)"
   ]
  },
  {
   "cell_type": "markdown",
   "metadata": {},
   "source": [
    "### Opening a File <br>\n",
    "<p>Python gives us a couple ways to import files, below are the two used most often.</p>"
   ]
  },
  {
   "cell_type": "markdown",
   "metadata": {},
   "source": [
    "##### open()"
   ]
  },
  {
   "cell_type": "code",
   "execution_count": 84,
   "metadata": {},
   "outputs": [
    {
     "name": "stdout",
     "output_type": "stream",
     "text": [
      "<built-in method read of _io.TextIOWrapper object at 0x7fcfa088ee90>\n"
     ]
    }
   ],
   "source": [
    "f = open('./names.txt')\n",
    "\n",
    "data = f.read\n",
    "\n",
    "f.close()\n",
    "\n",
    "print(data)"
   ]
  },
  {
   "cell_type": "markdown",
   "metadata": {},
   "source": [
    "##### with open()"
   ]
  },
  {
   "cell_type": "code",
   "execution_count": 96,
   "metadata": {},
   "outputs": [
    {
     "name": "stdout",
     "output_type": "stream",
     "text": [
      "['Hawkins, Derek\\tderek@codingtemple.com\\t(555) 555-5555\\tTeacher, Coding Temple\\t@derekhawkins\\n', 'Zhai, Mo\\tmozhai@codingtemple.com\\t(555) 555-5554\\tTeacher, Coding Temple\\n', 'Johnson, Joe\\tjoejohnson@codingtemple.com\\t\\tJohson, Joe\\n', 'Osterberg, Sven-Erik\\tgovernor@norrbotten.co.se\\t\\tGovernor, Norrbotten\\t@sverik\\n', ', Tim\\ttim@killerrabbit.com\\t\\tEnchanter, Killer Rabbit Cave\\n', 'Butz, Ryan\\tryanb@codingtemple.com\\t(555) 555-5543\\tCEO, Coding Temple\\t@ryanbutz\\n', 'Doctor, The\\tdoctor+companion@tardis.co.uk\\t\\tTime Lord, Gallifrey\\n', 'Exampleson, Example\\tme@example.com\\t555-555-5552\\tExample, Example Co.\\t@example\\n', 'Pael, Ripal\\tripalp@codingtemple.com\\t(555) 555-5553\\tTeacher, Coding Temple\\t@ripalp\\n', 'Vader, Darth\\tdarth-vader@empire.gov\\t(555) 555-4444\\tSith Lord, Galactic Empire\\t@darthvader\\n', 'Fernandez de la Vega Sanz, Maria Teresa\\tmtfvs@spain.gov\\t\\tFirst Deputy Prime Minister, Spanish Gov\\n']\n"
     ]
    }
   ],
   "source": [
    "with open('./names.txt') as f: #recommended to use with open over open\n",
    "    data = f.readlines()\n",
    "\n",
    "print(data)"
   ]
  },
  {
   "cell_type": "code",
   "execution_count": 92,
   "metadata": {},
   "outputs": [
    {
     "name": "stdout",
     "output_type": "stream",
     "text": [
      "What are we searching for? Skywalker, Luke\n",
      "No match\n"
     ]
    }
   ],
   "source": [
    "# get input\n",
    "user_input = input(\"What are we searching for? \")\n",
    "\n",
    "# create pattern\n",
    "search_pattern = re.compile(user_input)\n",
    "\n",
    "# search data with pattern\n",
    "result = search_pattern.search(data)\n",
    "\n",
    "if result:\n",
    "    print(f'{user_input} found at {result.span()}')\n",
    "else:\n",
    "    print('No match')"
   ]
  },
  {
   "cell_type": "markdown",
   "metadata": {},
   "source": [
    "##### re.match()"
   ]
  },
  {
   "cell_type": "code",
   "execution_count": 87,
   "metadata": {},
   "outputs": [
    {
     "data": {
      "text/plain": [
       "<re.Match object; span=(0, 14), match='Hawkins, Derek'>"
      ]
     },
     "execution_count": 87,
     "metadata": {},
     "output_type": "execute_result"
    }
   ],
   "source": [
    "re.compile('Hawkins, Derek').match(data)"
   ]
  },
  {
   "cell_type": "markdown",
   "metadata": {},
   "source": [
    "##### re.search()"
   ]
  },
  {
   "cell_type": "code",
   "execution_count": 89,
   "metadata": {},
   "outputs": [
    {
     "data": {
      "text/plain": [
       "<re.Match object; span=(652, 664), match='Vader, Darth'>"
      ]
     },
     "execution_count": 89,
     "metadata": {},
     "output_type": "execute_result"
    }
   ],
   "source": [
    "re.search('Vader, Darth', data)"
   ]
  },
  {
   "cell_type": "raw",
   "metadata": {},
   "source": [
    "re.compile('Hawkins, Derek').match(data)"
   ]
  },
  {
   "cell_type": "markdown",
   "metadata": {},
   "source": [
    "##### Store the String to a Variable"
   ]
  },
  {
   "cell_type": "code",
   "execution_count": null,
   "metadata": {},
   "outputs": [],
   "source": [
    "# get input\n",
    "user_input = input(\"What are we searching for? \")\n",
    "\n",
    "# create pattern\n",
    "search_pattern = re.compile(user_input)\n",
    "\n",
    "# search data with pattern\n",
    "search_pattern.search(data)"
   ]
  },
  {
   "cell_type": "markdown",
   "metadata": {},
   "source": [
    "### In-Class Exercise #3 <br>\n",
    "<p>Print each persons name and twitter handle, using groups, should look like:</p>\n",
    "<p>==============<br>\n",
    "   Full Name / Twitter<br>\n",
    "   ==============</p>\n",
    "Derek Hawkins / @derekhawkins\n",
    "\n",
    " Erik Sven-Osterberg / @sverik\n",
    "\n",
    " Ryan Butz / @ryanbutz\n",
    "\n",
    " Example Exampleson / @example\n",
    "\n",
    " Ripal Pael / @ripalp\n",
    "\n",
    " Darth Vader / @darthvader"
   ]
  },
  {
   "cell_type": "code",
   "execution_count": 114,
   "metadata": {
    "scrolled": true
   },
   "outputs": [
    {
     "name": "stdout",
     "output_type": "stream",
     "text": [
      "Derek Hawkins / @derekhawkins\n",
      "Sven Osterberg / @sverik\n",
      "Ryan Butz / @ryanbutz\n",
      "Example Exampleson / @example\n",
      "Ripal Pael / @ripalp\n",
      "Darth Vader / @darthvader\n"
     ]
    }
   ],
   "source": [
    "name_twitter = re.compile('([A-Z][a-z]+, [A-Z][a-z]+).+(@[a-z]+)$')\n",
    "# .+ means that the two groups can be separated by any characters aside from a new line character\n",
    "\n",
    "for line in data:\n",
    "    result = name_twitter.search(line)\n",
    "    if result:\n",
    "        name_list = result.group(1).split(', ')[::-1]\n",
    "        print(' '.join(name_list), f'/ {result.group(2)}')\n",
    "        result = None"
   ]
  },
  {
   "cell_type": "code",
   "execution_count": 111,
   "metadata": {},
   "outputs": [
    {
     "name": "stdout",
     "output_type": "stream",
     "text": [
      "@codingtemple\n",
      "@derekhawkins\n",
      "@codingtemple\n",
      "@codingtemple\n",
      "@norrbotten\n",
      "@sverik\n",
      "@killerrabbit\n",
      "@codingtemple\n",
      "@ryanbutz\n",
      "@tardis\n",
      "@example\n",
      "@example\n",
      "@codingtemple\n",
      "@ripalp\n",
      "@empire\n",
      "@darthvader\n",
      "@spain\n"
     ]
    }
   ],
   "source": [
    "twitter_hndl = re.compile(r'(@\\w+)')\n",
    "\n",
    "for item in data:\n",
    "    matches = twitter_hndl.findall(item)\n",
    "    if matches:\n",
    "        for match in matches:\n",
    "            print(match)\n",
    "    else:\n",
    "        print(\"No Twitter handle found.\")"
   ]
  },
  {
   "cell_type": "markdown",
   "metadata": {},
   "source": [
    "### Regex project\n",
    "\n",
    "Use python to read the file regex_test.txt and print the last name on each line using regular expressions and groups (return None for names with no first and last name, or names that aren't properly capitalized)\n",
    "##### Hint: use with open() and readlines()"
   ]
  },
  {
   "cell_type": "code",
   "execution_count": null,
   "metadata": {},
   "outputs": [],
   "source": [
    "\"\"\"\n",
    "Expected Output\n",
    "Abraham Lincoln\n",
    "Andrew P Garfield\n",
    "Connor Milliken\n",
    "Jordan Alexander Williams\n",
    "None\n",
    "None\n",
    "\"\"\""
   ]
  },
  {
   "cell_type": "code",
   "execution_count": null,
   "metadata": {},
   "outputs": [],
   "source": [
    "['John Doe, 25, United States\\n', \n",
    " 'Jane Smith, 30, Canada\\n', \n",
    " 'Invalid data\\n', \n",
    " 'John Adams; 45; United Kingdom\\n',\n",
    " ', 20, \\n', \n",
    " 'Megan Brown, 35, Australia\\n', \n",
    " 'Data not available\\n', \n",
    " 'Mike Wilson, , United States\\n', \n",
    " 'Sarah Johnson, 40, \\n', \n",
    " 'Paul Clark 50 Germany\\n', \n",
    " 'Emily Davis:32:France\\n', \n",
    " '45, United States\\n', \n",
    " 'Invalid Record\\n', \n",
    " 'Alex White, 25, \\n', \n",
    " ', , Germany\\n', \n",
    " 'Julia Robinson, 37, South Africa\\n', \n",
    " 'Fred Thompson; ; United Kingdom\\n',\n",
    " '24, India\\n', \n",
    " 'John Adams : 45 : United Kingdom\\n', \n",
    " 'Sarah Johnson,40\\n', \n",
    " 'Sarah Johnson 40 \\n']"
   ]
  },
  {
   "cell_type": "code",
   "execution_count": null,
   "metadata": {},
   "outputs": [],
   "source": [
    "#must have NAME, AGE, COUNTRY else invalid record\n",
    "\n",
    "John Doe, 25, United States\n",
    "Jane Smith, 30, Canada\n",
    "# Invalid data\n",
    "John Adams; 45; United Kingdom\n",
    "# , 20, \n",
    "Megan Brown, 35, Australia\n",
    "# Data not available\n",
    "# Mike Wilson, , United States\n",
    "# Sarah Johnson, 40, \n",
    "Paul Clark 50 Germany\n",
    "Emily Davis:32:France\n",
    "# 45, United States\n",
    "# Invalid Record\n",
    "# Alex White, 25, \n",
    "# , , Germany\n",
    "Julia Robinson, 37, South Africa\n",
    "# Fred Thompson; ; United Kingdom\n",
    "# 24, India\n",
    "John Adams : 45 : United Kingdom\n",
    "# Sarah Johnson,40\n",
    "# Sarah Johnson 40 "
   ]
  }
 ],
 "metadata": {
  "kernelspec": {
   "display_name": "Python 3 (ipykernel)",
   "language": "python",
   "name": "python3"
  },
  "language_info": {
   "codemirror_mode": {
    "name": "ipython",
    "version": 3
   },
   "file_extension": ".py",
   "mimetype": "text/x-python",
   "name": "python",
   "nbconvert_exporter": "python",
   "pygments_lexer": "ipython3",
   "version": "3.10.9"
  }
 },
 "nbformat": 4,
 "nbformat_minor": 2
}
